{
 "cells": [
  {
   "cell_type": "markdown",
   "metadata": {},
   "source": [
    "# Linear Regression - Regression\n",
    "Linear regression relates a continuous response (dependent) variable to one or more predictors (features, independent variables), using the assumption that the relationship is linear in nature:\n",
    "- The relationship between each feature and the response is a straight line when we keep other features constant\n",
    "- The slope of this line does not depend on the values of the other variables\n",
    "- The effects of each variable on the response are addictive (but we can include new variables that represent the interaction of two variables)\n",
    "\n",
    "In other words, the model assumes that the response variable can be explained or predicted by a linear combination of the features, except for random deviations from this linear relationship"
   ]
  },
  {
   "cell_type": "markdown",
   "metadata": {},
   "source": [
    "### Imports & Settings"
   ]
  },
  {
   "cell_type": "code",
   "execution_count": 1,
   "metadata": {},
   "outputs": [],
   "source": [
    "import warnings\n",
    "warnings.filterwarnings('ignore')"
   ]
  },
  {
   "cell_type": "code",
   "execution_count": 2,
   "metadata": {},
   "outputs": [],
   "source": [
    "%matplotlib inline\n",
    "\n",
    "import numpy as np\n",
    "import pandas as pd\n",
    "\n",
    "import matplotlib.pyplot as plt\n",
    "import seaborn as sns\n",
    "\n",
    "import statsmodels.api as sm \n",
    "from sklearn.linear_model import SGDRegressor\n",
    "from sklearn.preprocessing import StandardScaler"
   ]
  },
  {
   "cell_type": "code",
   "execution_count": 3,
   "metadata": {},
   "outputs": [],
   "source": [
    "sns.set_style('whitegrid')\n",
    "pd.options.display.float_format = '{:,.2f}'.format"
   ]
  },
  {
   "cell_type": "markdown",
   "metadata": {},
   "source": [
    "### Simple Regression\n",
    "#### Generate random data"
   ]
  },
  {
   "cell_type": "code",
   "execution_count": 13,
   "metadata": {},
   "outputs": [
    {
     "data": {
      "image/png": "[encoded data removed]",
      "text/plain": [
       "<Figure size 1008x432 with 1 Axes>"
      ]
     },
     "metadata": {},
     "output_type": "display_data"
    }
   ],
   "source": [
    "x = np.linspace(-5, 50, 100)\n",
    "y = 50 + 2*x +np.random.normal(0,20, size=len(x))\n",
    "data = pd.DataFrame({'X':x, 'Y':y})\n",
    "ax = data.plot.scatter(x='X', y='Y', figsize=(14,6))\n",
    "sns.despine()\n",
    "plt.tight_layout()"
   ]
  },
  {
   "cell_type": "markdown",
   "metadata": {},
   "source": [
    "Our linear model with a single independent variable on the left-hand side assumes the following:\n",
    "\n",
    "$$y = \\beta_0 + \\beta_1 X_1 + \\epsilon$$\n",
    "\n",
    "$\\epsilon$ account for the deviation or errors that we will encounter when our data do not fit a straight line. When $\\epsilon$ materializes, that is when we run the model of this type on actual data, the errors are called `residual`."
   ]
  },
  {
   "cell_type": "markdown",
   "metadata": {},
   "source": [
    "### Estimate a simple regression with statsmodels"
   ]
  },
  {
   "cell_type": "markdown",
   "metadata": {},
   "source": [
    "The upper part of the summary displays the dataset characteristics, namely the estimation method, the number of observations and parameters, and indicates that the standard error estimates do not account for heteroskedasticity\n",
    "\n",
    "The middle panel shoes the coefficent values that closely reflect the artifical data generating process. We can confirm that the estimates displayed in the middle of the summary result can be obtained using the OLS formula derived previously:"
   ]
  },
  {
   "cell_type": "code",
   "execution_count": 16,
   "metadata": {},
   "outputs": [
    {
     "name": "stdout",
     "output_type": "stream",
     "text": [
      "                            OLS Regression Results                            \n",
      "==============================================================================\n",
      "Dep. Variable:                      Y   R-squared:                       0.688\n",
      "Model:                            OLS   Adj. R-squared:                  0.684\n",
      "Method:                 Least Squares   F-statistic:                     215.8\n",
      "Date:                Thu, 12 May 2022   Prob (F-statistic):           1.66e-26\n",
      "Time:                        16:03:53   Log-Likelihood:                -442.47\n",
      "No. Observations:                 100   AIC:                             888.9\n",
      "Df Residuals:                      98   BIC:                             894.2\n",
      "Df Model:                           1                                         \n",
      "Covariance Type:            nonrobust                                         \n",
      "==============================================================================\n",
      "                 coef    std err          t      P>|t|      [0.025      0.975]\n",
      "------------------------------------------------------------------------------\n",
      "const         50.7449      3.516     14.433      0.000      43.768      57.722\n",
      "X              1.8691      0.127     14.689      0.000       1.617       2.122\n",
      "==============================================================================\n",
      "Omnibus:                        2.826   Durbin-Watson:                   2.047\n",
      "Prob(Omnibus):                  0.243   Jarque-Bera (JB):                2.337\n",
      "Skew:                          -0.366   Prob(JB):                        0.311\n",
      "Kurtosis:                       3.160   Cond. No.                         47.6\n",
      "==============================================================================\n",
      "\n",
      "Notes:\n",
      "[1] Standard Errors assume that the covariance matrix of the errors is correctly specified.\n"
     ]
    }
   ],
   "source": [
    "X = sm.add_constant(data['X'])\n",
    "model = sm.OLS(data['Y'],X).fit()\n",
    "print(model.summary())"
   ]
  },
  {
   "cell_type": "code",
   "execution_count": null,
   "metadata": {},
   "outputs": [],
   "source": []
  },
  {
   "cell_type": "code",
   "execution_count": null,
   "metadata": {},
   "outputs": [],
   "source": []
  }
 ],
 "metadata": {
  "interpreter": {
   "hash": "e774977668b7c0ae8309835a5187aa7fbf7669e7d0bb59755bc63e573643edcd"
  },
  "kernelspec": {
   "display_name": "Python 3.7.9 64-bit",
   "language": "python",
   "name": "python3"
  },
  "language_info": {
   "codemirror_mode": {
    "name": "ipython",
    "version": 3
   },
   "file_extension": ".py",
   "mimetype": "text/x-python",
   "name": "python",
   "nbconvert_exporter": "python",
   "pygments_lexer": "ipython3",
   "version": "3.7.9"
  },
  "orig_nbformat": 4
 },
 "nbformat": 4,
 "nbformat_minor": 2
}
